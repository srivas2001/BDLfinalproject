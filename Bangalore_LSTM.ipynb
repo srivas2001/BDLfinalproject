{
 "cells": [
  {
   "cell_type": "code",
   "execution_count": 1,
   "metadata": {},
   "outputs": [],
   "source": [
    "import pandas as pd\n",
    "import numpy as np\n",
    "import matplotlib.pyplot as plt\n",
    "import torch\n",
    "import torch.nn as nn\n",
    "import torch.optim as optim\n",
    "import torch.optim.lr_scheduler as lr_scheduler\n",
    "import torch.nn.init as init"
   ]
  },
  {
   "cell_type": "code",
   "execution_count": 2,
   "metadata": {},
   "outputs": [
    {
     "data": {
      "text/html": [
       "<div>\n",
       "<style scoped>\n",
       "    .dataframe tbody tr th:only-of-type {\n",
       "        vertical-align: middle;\n",
       "    }\n",
       "\n",
       "    .dataframe tbody tr th {\n",
       "        vertical-align: top;\n",
       "    }\n",
       "\n",
       "    .dataframe thead th {\n",
       "        text-align: right;\n",
       "    }\n",
       "</style>\n",
       "<table border=\"1\" class=\"dataframe\">\n",
       "  <thead>\n",
       "    <tr style=\"text-align: right;\">\n",
       "      <th></th>\n",
       "      <th>name</th>\n",
       "      <th>datetime</th>\n",
       "      <th>tempmax</th>\n",
       "      <th>tempmin</th>\n",
       "      <th>temp</th>\n",
       "      <th>feelslikemax</th>\n",
       "      <th>feelslikemin</th>\n",
       "      <th>feelslike</th>\n",
       "      <th>dew</th>\n",
       "      <th>humidity</th>\n",
       "      <th>...</th>\n",
       "      <th>solarenergy</th>\n",
       "      <th>uvindex</th>\n",
       "      <th>severerisk</th>\n",
       "      <th>sunrise</th>\n",
       "      <th>sunset</th>\n",
       "      <th>moonphase</th>\n",
       "      <th>conditions</th>\n",
       "      <th>description</th>\n",
       "      <th>icon</th>\n",
       "      <th>stations</th>\n",
       "    </tr>\n",
       "  </thead>\n",
       "  <tbody>\n",
       "    <tr>\n",
       "      <th>0</th>\n",
       "      <td>Bangalore,India</td>\n",
       "      <td>2021-10-30</td>\n",
       "      <td>28.9</td>\n",
       "      <td>20.0</td>\n",
       "      <td>23.5</td>\n",
       "      <td>30.6</td>\n",
       "      <td>20.0</td>\n",
       "      <td>23.8</td>\n",
       "      <td>20.6</td>\n",
       "      <td>85.0</td>\n",
       "      <td>...</td>\n",
       "      <td>13.5</td>\n",
       "      <td>6</td>\n",
       "      <td>NaN</td>\n",
       "      <td>2021-10-30T06:12:43</td>\n",
       "      <td>2021-10-30T17:53:42</td>\n",
       "      <td>0.82</td>\n",
       "      <td>Rain, Partially cloudy</td>\n",
       "      <td>Partly cloudy throughout the day with rain.</td>\n",
       "      <td>rain</td>\n",
       "      <td>43296099999,VOBG,42705699999,VOBL,43302599999,...</td>\n",
       "    </tr>\n",
       "    <tr>\n",
       "      <th>1</th>\n",
       "      <td>Bangalore,India</td>\n",
       "      <td>2021-10-31</td>\n",
       "      <td>26.8</td>\n",
       "      <td>20.0</td>\n",
       "      <td>23.0</td>\n",
       "      <td>28.5</td>\n",
       "      <td>20.0</td>\n",
       "      <td>23.0</td>\n",
       "      <td>20.3</td>\n",
       "      <td>86.0</td>\n",
       "      <td>...</td>\n",
       "      <td>14.9</td>\n",
       "      <td>7</td>\n",
       "      <td>NaN</td>\n",
       "      <td>2021-10-31T06:12:59</td>\n",
       "      <td>2021-10-31T17:53:21</td>\n",
       "      <td>0.85</td>\n",
       "      <td>Rain, Partially cloudy</td>\n",
       "      <td>Partly cloudy throughout the day with afternoo...</td>\n",
       "      <td>rain</td>\n",
       "      <td>43296099999,VOBG,42705699999,VOBL,43302599999,...</td>\n",
       "    </tr>\n",
       "    <tr>\n",
       "      <th>2</th>\n",
       "      <td>Bangalore,India</td>\n",
       "      <td>2021-11-01</td>\n",
       "      <td>26.8</td>\n",
       "      <td>20.9</td>\n",
       "      <td>22.8</td>\n",
       "      <td>28.1</td>\n",
       "      <td>20.9</td>\n",
       "      <td>22.9</td>\n",
       "      <td>20.7</td>\n",
       "      <td>88.3</td>\n",
       "      <td>...</td>\n",
       "      <td>8.2</td>\n",
       "      <td>3</td>\n",
       "      <td>NaN</td>\n",
       "      <td>2021-11-01T06:13:16</td>\n",
       "      <td>2021-11-01T17:53:00</td>\n",
       "      <td>0.88</td>\n",
       "      <td>Rain, Partially cloudy</td>\n",
       "      <td>Partly cloudy throughout the day with afternoo...</td>\n",
       "      <td>rain</td>\n",
       "      <td>43296099999,VOBG,42705699999,VOBL,43302599999,...</td>\n",
       "    </tr>\n",
       "    <tr>\n",
       "      <th>3</th>\n",
       "      <td>Bangalore,India</td>\n",
       "      <td>2021-11-02</td>\n",
       "      <td>26.8</td>\n",
       "      <td>20.0</td>\n",
       "      <td>22.2</td>\n",
       "      <td>28.3</td>\n",
       "      <td>20.0</td>\n",
       "      <td>22.3</td>\n",
       "      <td>19.9</td>\n",
       "      <td>87.8</td>\n",
       "      <td>...</td>\n",
       "      <td>12.3</td>\n",
       "      <td>7</td>\n",
       "      <td>NaN</td>\n",
       "      <td>2021-11-02T06:13:33</td>\n",
       "      <td>2021-11-02T17:52:41</td>\n",
       "      <td>0.91</td>\n",
       "      <td>Rain, Partially cloudy</td>\n",
       "      <td>Partly cloudy throughout the day with a chance...</td>\n",
       "      <td>rain</td>\n",
       "      <td>43296099999,VOBG,42705699999,VOBL,43302599999,...</td>\n",
       "    </tr>\n",
       "    <tr>\n",
       "      <th>4</th>\n",
       "      <td>Bangalore,India</td>\n",
       "      <td>2021-11-03</td>\n",
       "      <td>25.9</td>\n",
       "      <td>20.0</td>\n",
       "      <td>22.2</td>\n",
       "      <td>25.9</td>\n",
       "      <td>20.0</td>\n",
       "      <td>22.2</td>\n",
       "      <td>19.8</td>\n",
       "      <td>87.0</td>\n",
       "      <td>...</td>\n",
       "      <td>5.8</td>\n",
       "      <td>3</td>\n",
       "      <td>NaN</td>\n",
       "      <td>2021-11-03T06:13:51</td>\n",
       "      <td>2021-11-03T17:52:22</td>\n",
       "      <td>0.95</td>\n",
       "      <td>Rain, Partially cloudy</td>\n",
       "      <td>Partly cloudy throughout the day with a chance...</td>\n",
       "      <td>rain</td>\n",
       "      <td>43296099999,VOBG,42705699999,VOBL,43302599999,...</td>\n",
       "    </tr>\n",
       "  </tbody>\n",
       "</table>\n",
       "<p>5 rows × 33 columns</p>\n",
       "</div>"
      ],
      "text/plain": [
       "              name    datetime  tempmax  tempmin  temp  feelslikemax  \\\n",
       "0  Bangalore,India  2021-10-30     28.9     20.0  23.5          30.6   \n",
       "1  Bangalore,India  2021-10-31     26.8     20.0  23.0          28.5   \n",
       "2  Bangalore,India  2021-11-01     26.8     20.9  22.8          28.1   \n",
       "3  Bangalore,India  2021-11-02     26.8     20.0  22.2          28.3   \n",
       "4  Bangalore,India  2021-11-03     25.9     20.0  22.2          25.9   \n",
       "\n",
       "   feelslikemin  feelslike   dew  humidity  ...  solarenergy  uvindex  \\\n",
       "0          20.0       23.8  20.6      85.0  ...         13.5        6   \n",
       "1          20.0       23.0  20.3      86.0  ...         14.9        7   \n",
       "2          20.9       22.9  20.7      88.3  ...          8.2        3   \n",
       "3          20.0       22.3  19.9      87.8  ...         12.3        7   \n",
       "4          20.0       22.2  19.8      87.0  ...          5.8        3   \n",
       "\n",
       "   severerisk              sunrise               sunset  moonphase  \\\n",
       "0         NaN  2021-10-30T06:12:43  2021-10-30T17:53:42       0.82   \n",
       "1         NaN  2021-10-31T06:12:59  2021-10-31T17:53:21       0.85   \n",
       "2         NaN  2021-11-01T06:13:16  2021-11-01T17:53:00       0.88   \n",
       "3         NaN  2021-11-02T06:13:33  2021-11-02T17:52:41       0.91   \n",
       "4         NaN  2021-11-03T06:13:51  2021-11-03T17:52:22       0.95   \n",
       "\n",
       "               conditions                                        description  \\\n",
       "0  Rain, Partially cloudy        Partly cloudy throughout the day with rain.   \n",
       "1  Rain, Partially cloudy  Partly cloudy throughout the day with afternoo...   \n",
       "2  Rain, Partially cloudy  Partly cloudy throughout the day with afternoo...   \n",
       "3  Rain, Partially cloudy  Partly cloudy throughout the day with a chance...   \n",
       "4  Rain, Partially cloudy  Partly cloudy throughout the day with a chance...   \n",
       "\n",
       "   icon                                           stations  \n",
       "0  rain  43296099999,VOBG,42705699999,VOBL,43302599999,...  \n",
       "1  rain  43296099999,VOBG,42705699999,VOBL,43302599999,...  \n",
       "2  rain  43296099999,VOBG,42705699999,VOBL,43302599999,...  \n",
       "3  rain  43296099999,VOBG,42705699999,VOBL,43302599999,...  \n",
       "4  rain  43296099999,VOBG,42705699999,VOBL,43302599999,...  \n",
       "\n",
       "[5 rows x 33 columns]"
      ]
     },
     "execution_count": 2,
     "metadata": {},
     "output_type": "execute_result"
    }
   ],
   "source": [
    "ban_data=pd.read_csv(r\"C:\\Users\\sriva\\OneDrive\\Documents\\GitHub\\FinalProject_BDL\\Bangalore,India 2021-10-30 to 2024-04-13.csv\")\n",
    "ban_data.head()"
   ]
  },
  {
   "cell_type": "code",
   "execution_count": 3,
   "metadata": {},
   "outputs": [
    {
     "data": {
      "text/plain": [
       "(897, 33)"
      ]
     },
     "execution_count": 3,
     "metadata": {},
     "output_type": "execute_result"
    }
   ],
   "source": [
    "ban_data.shape"
   ]
  },
  {
   "cell_type": "code",
   "execution_count": 4,
   "metadata": {},
   "outputs": [],
   "source": [
    "data_T=ban_data[['datetime','temp']]"
   ]
  },
  {
   "cell_type": "code",
   "execution_count": 5,
   "metadata": {},
   "outputs": [
    {
     "name": "stderr",
     "output_type": "stream",
     "text": [
      "C:\\Users\\sriva\\AppData\\Local\\Temp\\ipykernel_3156\\173673238.py:1: SettingWithCopyWarning: \n",
      "A value is trying to be set on a copy of a slice from a DataFrame.\n",
      "Try using .loc[row_indexer,col_indexer] = value instead\n",
      "\n",
      "See the caveats in the documentation: https://pandas.pydata.org/pandas-docs/stable/user_guide/indexing.html#returning-a-view-versus-a-copy\n",
      "  data_T['datetime']=pd.to_datetime(data_T['datetime'],format='%Y-%m-%d')\n"
     ]
    }
   ],
   "source": [
    "data_T['datetime']=pd.to_datetime(data_T['datetime'],format='%Y-%m-%d')"
   ]
  },
  {
   "cell_type": "code",
   "execution_count": 6,
   "metadata": {},
   "outputs": [],
   "source": [
    "from copy import deepcopy as dc\n",
    "def prep_df_lstm(df,n_steps):\n",
    "    df=dc(df)\n",
    "    df.set_index('datetime',inplace=True)\n",
    "    for i in range(1,n_steps+1):\n",
    "        df['t-'+str(i)]=df['temp'].shift(i)\n",
    "    df.dropna(inplace=True)\n",
    "    return df\n"
   ]
  },
  {
   "cell_type": "code",
   "execution_count": 7,
   "metadata": {},
   "outputs": [
    {
     "data": {
      "text/html": [
       "<div>\n",
       "<style scoped>\n",
       "    .dataframe tbody tr th:only-of-type {\n",
       "        vertical-align: middle;\n",
       "    }\n",
       "\n",
       "    .dataframe tbody tr th {\n",
       "        vertical-align: top;\n",
       "    }\n",
       "\n",
       "    .dataframe thead th {\n",
       "        text-align: right;\n",
       "    }\n",
       "</style>\n",
       "<table border=\"1\" class=\"dataframe\">\n",
       "  <thead>\n",
       "    <tr style=\"text-align: right;\">\n",
       "      <th></th>\n",
       "      <th>temp</th>\n",
       "      <th>t-1</th>\n",
       "      <th>t-2</th>\n",
       "      <th>t-3</th>\n",
       "      <th>t-4</th>\n",
       "      <th>t-5</th>\n",
       "    </tr>\n",
       "    <tr>\n",
       "      <th>datetime</th>\n",
       "      <th></th>\n",
       "      <th></th>\n",
       "      <th></th>\n",
       "      <th></th>\n",
       "      <th></th>\n",
       "      <th></th>\n",
       "    </tr>\n",
       "  </thead>\n",
       "  <tbody>\n",
       "    <tr>\n",
       "      <th>2021-11-04</th>\n",
       "      <td>23.1</td>\n",
       "      <td>22.2</td>\n",
       "      <td>22.2</td>\n",
       "      <td>22.8</td>\n",
       "      <td>23.0</td>\n",
       "      <td>23.5</td>\n",
       "    </tr>\n",
       "    <tr>\n",
       "      <th>2021-11-05</th>\n",
       "      <td>21.7</td>\n",
       "      <td>23.1</td>\n",
       "      <td>22.2</td>\n",
       "      <td>22.2</td>\n",
       "      <td>22.8</td>\n",
       "      <td>23.0</td>\n",
       "    </tr>\n",
       "    <tr>\n",
       "      <th>2021-11-06</th>\n",
       "      <td>23.1</td>\n",
       "      <td>21.7</td>\n",
       "      <td>23.1</td>\n",
       "      <td>22.2</td>\n",
       "      <td>22.2</td>\n",
       "      <td>22.8</td>\n",
       "    </tr>\n",
       "    <tr>\n",
       "      <th>2021-11-07</th>\n",
       "      <td>21.6</td>\n",
       "      <td>23.1</td>\n",
       "      <td>21.7</td>\n",
       "      <td>23.1</td>\n",
       "      <td>22.2</td>\n",
       "      <td>22.2</td>\n",
       "    </tr>\n",
       "    <tr>\n",
       "      <th>2021-11-08</th>\n",
       "      <td>20.9</td>\n",
       "      <td>21.6</td>\n",
       "      <td>23.1</td>\n",
       "      <td>21.7</td>\n",
       "      <td>23.1</td>\n",
       "      <td>22.2</td>\n",
       "    </tr>\n",
       "  </tbody>\n",
       "</table>\n",
       "</div>"
      ],
      "text/plain": [
       "            temp   t-1   t-2   t-3   t-4   t-5\n",
       "datetime                                      \n",
       "2021-11-04  23.1  22.2  22.2  22.8  23.0  23.5\n",
       "2021-11-05  21.7  23.1  22.2  22.2  22.8  23.0\n",
       "2021-11-06  23.1  21.7  23.1  22.2  22.2  22.8\n",
       "2021-11-07  21.6  23.1  21.7  23.1  22.2  22.2\n",
       "2021-11-08  20.9  21.6  23.1  21.7  23.1  22.2"
      ]
     },
     "execution_count": 7,
     "metadata": {},
     "output_type": "execute_result"
    }
   ],
   "source": [
    "time_period=5\n",
    "shifted_df=prep_df_lstm(data_T,time_period)\n",
    "shifted_df.head()"
   ]
  },
  {
   "cell_type": "code",
   "execution_count": 8,
   "metadata": {},
   "outputs": [
    {
     "data": {
      "text/plain": [
       "device(type='cuda')"
      ]
     },
     "execution_count": 8,
     "metadata": {},
     "output_type": "execute_result"
    }
   ],
   "source": [
    "device=torch.device('cuda' if torch.cuda.is_available() else 'cpu')\n",
    "device"
   ]
  },
  {
   "cell_type": "code",
   "execution_count": 9,
   "metadata": {},
   "outputs": [],
   "source": [
    "df_np=shifted_df.to_numpy()\n"
   ]
  },
  {
   "cell_type": "code",
   "execution_count": 10,
   "metadata": {},
   "outputs": [],
   "source": [
    "#inputes :t-1 to t-7\n",
    "from sklearn.preprocessing import MinMaxScaler\n",
    "scaler=MinMaxScaler(feature_range=(-1,1))\n",
    "df_np=scaler.fit_transform(df_np)\n"
   ]
  },
  {
   "cell_type": "code",
   "execution_count": 11,
   "metadata": {},
   "outputs": [],
   "source": [
    "X=df_np[:,1:]\n",
    "y=df_np[:,0]\n",
    "X=dc(np.flip(X,axis=1))\n",
    "split_index_1=int(0.9*len(X))\n",
    "split_index_2=int(0.99*len(X))\n"
   ]
  },
  {
   "cell_type": "code",
   "execution_count": 12,
   "metadata": {},
   "outputs": [],
   "source": [
    "X_train=X[:split_index_1]\n",
    "y_train=y[:split_index_1]\n",
    "X_test=X[split_index_1:split_index_2]\n",
    "y_test=y[split_index_1:split_index_2]\n",
    "X_val=X[split_index_2:]\n",
    "y_val=y[split_index_2:]"
   ]
  },
  {
   "cell_type": "code",
   "execution_count": 13,
   "metadata": {},
   "outputs": [],
   "source": [
    "X_train=X_train.reshape(-1,time_period,1) #Requirement for LSTM in pytorch\n",
    "X_test=X_test.reshape(-1,time_period,1)\n",
    "y_train=y_train.reshape(-1,1)\n",
    "y_test=y_test.reshape(-1,1)\n",
    "X_val=X_val.reshape(-1,time_period,1)\n",
    "y_val=y_val.reshape(-1,1)"
   ]
  },
  {
   "cell_type": "code",
   "execution_count": 14,
   "metadata": {},
   "outputs": [],
   "source": [
    "#Put in pytorch tensors\n",
    "X_train=torch.tensor(X_train).float().to(device)\n",
    "y_train=torch.tensor(y_train).float().to(device)\n",
    "X_test=torch.tensor(X_test).float().to(device)\n",
    "y_test=torch.tensor(y_test).float().to(device)\n",
    "X_val=torch.tensor(X_val).float().to(device)\n",
    "y_val=torch.tensor(y_val).float().to(device)"
   ]
  },
  {
   "cell_type": "code",
   "execution_count": 15,
   "metadata": {},
   "outputs": [],
   "source": [
    "from torch.utils.data import Dataset,DataLoader\n",
    "class WeatherDataset(Dataset):\n",
    "    def __init__(self,X,y):\n",
    "        self.X=X\n",
    "        self.y=y\n",
    "    def __len__(self):\n",
    "        return len(self.X)\n",
    "    def __getitem__(self,idx):\n",
    "        return self.X[idx],self.y[idx]\n",
    "train_dataset=WeatherDataset(X_train,y_train)\n",
    "test_dataset=WeatherDataset(X_test,y_test)"
   ]
  },
  {
   "cell_type": "code",
   "execution_count": 16,
   "metadata": {},
   "outputs": [],
   "source": [
    "batch_size=32\n",
    "train_loader=DataLoader(train_dataset,batch_size=batch_size,shuffle=True)\n",
    "test_loader=DataLoader(test_dataset,batch_size=batch_size,shuffle=False)"
   ]
  },
  {
   "cell_type": "code",
   "execution_count": 17,
   "metadata": {},
   "outputs": [
    {
     "data": {
      "text/plain": [
       "LSTM(\n",
       "  (lstm): LSTM(1, 128, num_layers=2, batch_first=True)\n",
       "  (fc): Linear(in_features=128, out_features=1, bias=True)\n",
       ")"
      ]
     },
     "execution_count": 17,
     "metadata": {},
     "output_type": "execute_result"
    }
   ],
   "source": [
    "class LSTM(nn.Module):\n",
    "    def __init__(self,input_size,hidden_size,num_layers,output_size):\n",
    "        super(LSTM,self).__init__()\n",
    "        self.hidden_size=hidden_size\n",
    "        self.num_layers=num_layers\n",
    "        self.lstm=nn.LSTM(input_size,hidden_size,num_layers,batch_first=True)\n",
    "        self.fc=nn.Linear(hidden_size,output_size)\n",
    "    def forward(self,x):\n",
    "        h0=torch.zeros(self.num_layers,x.size(0),self.hidden_size).to(device)\n",
    "        c0=torch.zeros(self.num_layers,x.size(0),self.hidden_size).to(device)\n",
    "        out,_=self.lstm(x,(h0,c0))\n",
    "        out=self.fc(out[:,-1,:])\n",
    "        return out\n",
    "model=LSTM(1,128,2,1).to(device)\n",
    "model.to(device)"
   ]
  },
  {
   "cell_type": "code",
   "execution_count": 18,
   "metadata": {},
   "outputs": [],
   "source": [
    "loss_train=[]\n",
    "def train_epoch():\n",
    "    model.train(True)\n",
    "    print(f'Epoch {epoch+1}')\n",
    "    running_loss=0\n",
    "    for batch_index,batch in enumerate(train_loader):\n",
    "        X_batch,y_batch=batch\n",
    "        output=model(X_batch)\n",
    "        loss=criterion(output,y_batch)\n",
    "        running_loss+=loss.item()\n",
    "        optimizer.zero_grad()\n",
    "        loss.backward()\n",
    "        optimizer.step()\n",
    "        if batch_index%100==99:\n",
    "            avg_loss=running_loss/100\n",
    "            print(f'Batch : {batch_index+1} Loss : {avg_loss}')\n",
    "            loss_train.append(avg_loss)\n",
    "            plt.plot(loss_train)\n",
    "            plt.show()\n",
    "            running_loss=0"
   ]
  },
  {
   "cell_type": "code",
   "execution_count": 19,
   "metadata": {},
   "outputs": [],
   "source": [
    "def validate_epoch():\n",
    "    model.train(False)\n",
    "    running_loss=0\n",
    "    for batch_index,batch in enumerate(test_loader):\n",
    "        X_batch,y_batch=batch\n",
    "        with torch.no_grad():\n",
    "            output=model(X_batch)\n",
    "            loss=criterion(output,y_batch)\n",
    "            running_loss+=loss.item()\n",
    "    avg_loss=running_loss/len(test_loader)\n",
    "    print(f'Validation Loss : {avg_loss}')"
   ]
  },
  {
   "cell_type": "code",
   "execution_count": 20,
   "metadata": {},
   "outputs": [
    {
     "name": "stdout",
     "output_type": "stream",
     "text": [
      "Epoch 1\n",
      "Validation Loss : 0.1280273242543141\n",
      "Epoch 2\n",
      "Validation Loss : 0.040072608118255935\n",
      "Epoch 3\n",
      "Validation Loss : 0.027433808892965317\n",
      "Epoch 4\n",
      "Validation Loss : 0.033800087248285614\n",
      "Epoch 5\n",
      "Validation Loss : 0.03181141677002112\n",
      "Epoch 6\n",
      "Validation Loss : 0.02579819659392039\n",
      "Epoch 7\n",
      "Validation Loss : 0.02931918328007062\n",
      "Epoch 8\n",
      "Validation Loss : 0.02025661027679841\n",
      "Epoch 9\n",
      "Validation Loss : 0.02258746636410554\n",
      "Epoch 10\n",
      "Validation Loss : 0.02049656833211581\n",
      "Epoch 11\n",
      "Validation Loss : 0.01746912548939387\n",
      "Epoch 12\n",
      "Validation Loss : 0.01786688280602296\n",
      "Epoch 13\n",
      "Validation Loss : 0.018150280229747295\n",
      "Epoch 14\n",
      "Validation Loss : 0.017944790112475555\n",
      "Epoch 15\n",
      "Validation Loss : 0.016704014192024868\n",
      "Epoch 16\n",
      "Validation Loss : 0.01899474176267783\n",
      "Epoch 17\n",
      "Validation Loss : 0.01709100076307853\n",
      "Epoch 18\n",
      "Validation Loss : 0.016796328437825043\n",
      "Epoch 19\n",
      "Validation Loss : 0.017358177651961643\n",
      "Epoch 20\n",
      "Validation Loss : 0.01659549493342638\n",
      "Epoch 21\n",
      "Validation Loss : 0.016507475326458614\n",
      "Epoch 22\n",
      "Validation Loss : 0.016501434768239658\n",
      "Epoch 23\n",
      "Validation Loss : 0.01690884989996751\n",
      "Epoch 24\n",
      "Validation Loss : 0.016914807880918186\n",
      "Epoch 25\n",
      "Validation Loss : 0.016838042065501213\n",
      "Epoch 26\n",
      "Validation Loss : 0.016669318390389282\n",
      "Epoch 27\n",
      "Validation Loss : 0.0166786623497804\n",
      "Epoch 28\n",
      "Validation Loss : 0.01678814645856619\n",
      "Epoch 29\n",
      "Validation Loss : 0.016873415559530258\n",
      "Epoch 30\n",
      "Validation Loss : 0.01690932735800743\n",
      "Epoch 31\n",
      "Validation Loss : 0.0169107165808479\n",
      "Epoch 32\n",
      "Validation Loss : 0.016903947728375595\n",
      "Epoch 33\n",
      "Validation Loss : 0.01690053070584933\n",
      "Epoch 34\n",
      "Validation Loss : 0.016896262454489868\n",
      "Epoch 35\n",
      "Validation Loss : 0.016864389802018803\n",
      "Epoch 36\n",
      "Validation Loss : 0.016863652194539707\n",
      "Epoch 37\n",
      "Validation Loss : 0.016864892405768234\n",
      "Epoch 38\n",
      "Validation Loss : 0.016813407962520916\n",
      "Epoch 39\n",
      "Validation Loss : 0.01675983890891075\n",
      "Epoch 40\n",
      "Validation Loss : 0.016758133036394913\n",
      "Epoch 41\n",
      "Validation Loss : 0.01675874398400386\n",
      "Epoch 42\n",
      "Validation Loss : 0.016756071398655575\n",
      "Epoch 43\n",
      "Validation Loss : 0.01675451050202052\n",
      "Epoch 44\n",
      "Validation Loss : 0.016754222723344963\n",
      "Epoch 45\n",
      "Validation Loss : 0.01676257513463497\n",
      "Epoch 46\n",
      "Validation Loss : 0.016768591478466988\n",
      "Epoch 47\n",
      "Validation Loss : 0.016768327603737514\n",
      "Epoch 48\n",
      "Validation Loss : 0.016766600931684177\n",
      "Epoch 49\n",
      "Validation Loss : 0.016766075665752094\n",
      "Epoch 50\n",
      "Validation Loss : 0.01676692006488641\n",
      "Epoch 51\n",
      "Validation Loss : 0.016766814204553764\n",
      "Epoch 52\n",
      "Validation Loss : 0.01676682724306981\n",
      "Epoch 53\n",
      "Validation Loss : 0.016766953592499096\n",
      "Epoch 54\n",
      "Validation Loss : 0.016766955144703388\n",
      "Epoch 55\n",
      "Validation Loss : 0.016767052933573723\n",
      "Epoch 56\n",
      "Validation Loss : 0.016767036790649097\n",
      "Epoch 57\n",
      "Validation Loss : 0.016767168728013832\n",
      "Epoch 58\n",
      "Validation Loss : 0.016767214983701706\n",
      "Epoch 59\n",
      "Validation Loss : 0.016767219950755436\n",
      "Epoch 60\n",
      "Validation Loss : 0.016767128681143124\n"
     ]
    }
   ],
   "source": [
    "lr=1e-3\n",
    "num_epochs=60\n",
    "criterion=nn.MSELoss()\n",
    "optimizer=optim.Adam(model.parameters(),lr=lr)\n",
    "scheduler=lr_scheduler.StepLR(optimizer,step_size=10,gamma=0.1)\n",
    "for epoch in range(num_epochs):\n",
    "    train_epoch()\n",
    "    validate_epoch()\n",
    "    scheduler.step()"
   ]
  },
  {
   "cell_type": "code",
   "execution_count": 21,
   "metadata": {},
   "outputs": [
    {
     "data": {
      "image/png": "[encoded data removed]",
      "text/plain": [
       "<Figure size 640x480 with 1 Axes>"
      ]
     },
     "metadata": {},
     "output_type": "display_data"
    }
   ],
   "source": [
    "with torch.no_grad():\n",
    "    predicted=model(X_train).to('cpu').numpy()\n",
    "\n",
    "plt.plot(y_train.to('cpu').numpy(),label='Actual')\n",
    "plt.plot(predicted,label='Predicted')\n",
    "plt.legend()\n",
    "plt.show()"
   ]
  },
  {
   "cell_type": "code",
   "execution_count": 22,
   "metadata": {},
   "outputs": [
    {
     "data": {
      "text/plain": [
       "array([22.43893027, 22.79054382, 22.2985699 , 22.7161971 , 22.22387995,\n",
       "       21.60673966, 21.59320945, 21.42935618, 20.19376704, 20.13358263,\n",
       "       21.11803113, 21.98266382, 22.37237143, 22.62170758, 22.6307702 ,\n",
       "       21.87627678, 21.47408809, 21.7461027 , 22.29426356, 22.75704461,\n",
       "       23.33362117, 23.32180473, 23.09253102, 22.7217111 , 21.90058884,\n",
       "       21.37449725, 21.14488685, 21.89852257, 21.77902744, 21.95620931,\n",
       "       22.40449845, 22.97133776, 22.98177111, 23.02801736, 23.04786038,\n",
       "       22.90421208, 22.67401594, 22.75994568, 22.42205559, 21.99490511,\n",
       "       21.44723527, 21.28290498, 21.16404541, 21.31479313, 21.39656233,\n",
       "       21.18874542, 20.73498282, 20.37092909, 20.05234972, 20.35280458,\n",
       "       20.40780677, 20.68098813, 21.12019375, 21.63173236, 21.3090768 ,\n",
       "       21.19075279, 20.99324616, 20.99022401, 20.78710611, 21.19876664,\n",
       "       21.55629505, 21.41942113, 21.1921177 , 21.0922978 , 21.38808272,\n",
       "       21.58320422, 21.72481715, 21.99370018, 21.92634089, 22.22399394,\n",
       "       22.62644714, 22.57220885, 22.37877567, 22.72972695, 22.5684408 ,\n",
       "       22.21878062, 21.65843138, 21.63156365, 21.77835808, 22.30684845,\n",
       "       22.4702954 , 22.69252841, 22.40443046, 22.24492608, 22.3621855 ,\n",
       "       22.33269049, 21.86433254, 21.78124424, 22.55275051, 23.43572696,\n",
       "       23.66257126, 23.71168077, 23.2953146 , 23.57847392, 23.40738924,\n",
       "       23.25732198, 23.13672245, 22.89492003, 22.46599542, 22.35500663,\n",
       "       22.36551779, 22.5222129 , 22.55620096, 22.57380754, 22.7274278 ,\n",
       "       22.56056129, 22.90586786, 22.7024171 , 22.63002212, 23.3832737 ,\n",
       "       24.02517182, 24.46842199, 24.02528453, 23.28301713, 23.16001992,\n",
       "       23.13159949, 23.21546805, 23.46936915, 23.94689161, 23.70496557,\n",
       "       23.31262249, 23.68469416, 23.85426957, 23.63380924, 22.84372389,\n",
       "       23.44227827, 24.36873634, 24.93173338, 25.20261896, 25.3371845 ,\n",
       "       25.4212783 , 25.67879028, 25.82499397, 25.98439536, 26.20130071,\n",
       "       26.4069041 , 26.16158996, 25.59535821, 25.21563555, 25.43531508,\n",
       "       26.13361583, 26.53872686, 26.52397118, 26.61004035, 26.95159996,\n",
       "       27.27667829, 27.62328559, 27.69655373, 27.78815109, 27.29886208,\n",
       "       26.96183261, 26.95253129, 26.98584398, 26.88183717, 27.20552932,\n",
       "       27.41547777, 27.31229431, 27.35004314, 27.21714233, 27.41123506,\n",
       "       27.46801683, 26.61030177, 25.81711119, 25.47970912, 25.47080548,\n",
       "       25.40903064, 25.21138762, 25.64503201, 26.6177117 , 27.24803807,\n",
       "       27.27312439, 26.94107317, 27.25180939, 27.71480259, 27.95275734,\n",
       "       28.31079768, 28.36714878, 28.7036167 , 28.37938535, 26.81530887,\n",
       "       26.30620631, 26.48893835, 26.13154629, 24.9708523 , 24.63365171,\n",
       "       25.09772645, 25.48068227, 25.32124988, 24.1181619 , 23.40475087,\n",
       "       22.44312044, 22.72774666, 23.91942324, 24.68472678, 24.52358061,\n",
       "       24.22523384, 24.0927248 , 22.69148473, 22.33936142, 22.63428483,\n",
       "       23.29581289, 24.2582328 , 25.09009668, 25.39790639, 25.43181963,\n",
       "       25.55757857, 25.57196003, 25.4777592 , 25.28713229, 24.9079452 ,\n",
       "       24.83148501, 25.09091803, 25.0180867 , 25.00923609, 25.10462331,\n",
       "       24.69622771, 24.67889353, 24.792653  , 24.85848069, 24.93404866,\n",
       "       24.79780191, 24.80116153, 24.76318564, 25.02004312, 24.42642345,\n",
       "       24.49291444, 24.51642142, 24.10643872, 24.007237  , 23.99219354,\n",
       "       23.74057977, 23.3164718 , 23.20202237, 23.68914148, 23.42443063,\n",
       "       23.69793005, 23.67134047, 23.73785086, 23.95597023, 23.70152293,\n",
       "       23.68424113, 23.74071221, 23.67418691, 23.19860337, 22.99943404,\n",
       "       22.62088914, 22.2793668 , 22.0687039 , 22.08081903, 22.38938445,\n",
       "       22.20435362, 22.74377364, 22.43827854, 22.15905615, 22.26804848,\n",
       "       22.29420975, 22.83153968, 22.77349735, 23.55808743, 24.20644732,\n",
       "       24.13796546, 23.82333484, 23.4709553 , 23.17772358, 23.56395493,\n",
       "       23.74569646, 23.87729662, 24.56336231, 25.16461193, 24.99366251,\n",
       "       24.30728305, 24.19682123, 23.50298989, 22.77906297, 22.4296455 ,\n",
       "       21.99847827, 21.87422178, 22.09042304, 22.25837121, 22.33440462,\n",
       "       22.6215776 , 22.96163304, 23.17075487, 23.31546611, 23.19015012,\n",
       "       23.45159404, 24.12424264, 24.70894544, 24.76144355, 24.43854435,\n",
       "       24.19597098, 23.73620117, 23.39189638, 23.61747804, 23.42678541,\n",
       "       23.45690416, 23.19976558, 23.10951768, 23.21020238, 23.17868164,\n",
       "       23.68699413, 23.72336078, 23.3347223 , 23.31108997, 24.13883353,\n",
       "       24.04746324, 24.06036062, 23.84150253, 23.23951142, 22.70560777,\n",
       "       22.9473482 , 22.99972237, 22.97051896, 23.06079594, 22.91896795,\n",
       "       23.12141211, 23.18916353, 23.41116511, 23.81461663, 24.02407732,\n",
       "       23.77904987, 23.44512771, 23.26970798, 23.52332984, 23.62053354,\n",
       "       23.71555808, 23.81374684, 23.62319474, 23.93794788, 23.88202727,\n",
       "       23.69153162, 22.91775611, 21.93220921, 22.30622053, 22.60461438,\n",
       "       23.18441343, 23.43524702, 23.02405261, 23.16276865, 23.35475274,\n",
       "       23.19869645, 23.30183101, 23.42434482, 23.57252425, 23.74165763,\n",
       "       23.35088107, 23.606772  , 23.42745187, 23.36378228, 23.19108164,\n",
       "       23.35392649, 23.38937417, 23.36022402, 23.38969904, 23.265406  ,\n",
       "       22.75618927, 22.53819134, 22.54537857, 22.4578085 , 22.41322003,\n",
       "       22.15716567, 22.32003998, 22.65968056, 21.99178479, 21.33852564,\n",
       "       21.48173544, 21.92131065, 22.42549477, 22.43082134, 22.62280307,\n",
       "       22.76354811, 22.67581661, 22.47175848, 21.59441401, 21.04100857,\n",
       "       21.28867331, 21.68276525, 22.16795261, 22.46264841, 22.05626373,\n",
       "       21.63340923, 21.18425983, 20.47212045, 20.76963824, 20.95143641,\n",
       "       21.37946604, 21.63942225, 22.21857429, 22.63638419, 22.83007751,\n",
       "       22.91026546, 22.75050566, 22.21571158, 21.645456  , 22.06218877,\n",
       "       22.59541869, 22.70062115, 22.54879376, 22.52468658, 21.91689505,\n",
       "       21.74087176, 20.65109099, 19.6164484 , 19.77518197, 20.60342602,\n",
       "       20.97225875, 21.14968876, 21.44739453, 21.47867658, 21.6712944 ,\n",
       "       21.71891066, 21.38892661, 21.51601055, 21.59528444, 21.27491258,\n",
       "       21.31199605, 21.20176588, 21.08630332, 21.48330033, 21.48913192,\n",
       "       22.1756356 , 22.32148578, 21.97872179, 21.93978657, 22.03968083,\n",
       "       21.62940394, 21.22238134, 21.04239494, 20.6635868 , 20.62360408,\n",
       "       20.67566193, 20.85302177, 20.38649176, 20.01324434, 20.19363688,\n",
       "       20.79269483, 20.81106222, 20.81763335, 20.88045851, 21.1558345 ,\n",
       "       20.92644225, 20.46395026, 20.69428347, 20.3710858 , 20.54394187,\n",
       "       20.64792232, 20.19929031, 20.97282704, 21.0181465 , 21.10659373,\n",
       "       21.35568228, 21.33837547, 21.39938632, 21.84151628, 22.25635839,\n",
       "       22.14638146, 21.93478905, 21.92996587, 22.77179357, 23.29233953,\n",
       "       23.09400228, 23.26744391, 23.51231647, 23.47385337, 23.39286244,\n",
       "       23.21621595, 23.4561458 , 23.4941177 , 23.40979638, 23.41175721,\n",
       "       23.41995631, 23.41691126, 23.46574535, 23.4939709 , 23.40922391,\n",
       "       23.69992006, 23.90849196, 23.67156671, 23.38823577, 23.63193749,\n",
       "       23.77110083, 23.25723908, 23.02584765, 23.4136526 , 23.23528834,\n",
       "       23.17004896, 23.44754585, 23.78932006, 23.85403451, 23.78657634,\n",
       "       23.69722777, 23.45433904, 23.41827599, 23.55807007, 23.82953421,\n",
       "       24.49583387, 25.08196567, 25.55595414, 25.19849909, 24.72599474,\n",
       "       24.41094217, 24.95532326, 25.32914247, 25.52459401, 25.88744263,\n",
       "       26.30733834, 26.69467317, 26.55573916, 26.73915639, 26.98294436,\n",
       "       27.3303761 , 27.06639225, 26.78747455, 26.70378124, 26.88895514,\n",
       "       26.97033694, 26.93341218, 26.03855766, 26.25425008, 26.54418523,\n",
       "       26.41150821, 26.35121218, 26.16482117, 26.16435541, 26.40045349,\n",
       "       26.81261995, 27.17439325, 27.4538936 , 27.0952268 , 26.99822016,\n",
       "       27.00240288, 27.26821922, 27.52204624, 27.95814317, 26.97631615,\n",
       "       26.57235697, 26.86120717, 26.96117942, 26.87249059, 27.04542247,\n",
       "       27.14754353, 27.10633134, 26.39283886, 26.19824257, 25.37869211,\n",
       "       24.84506962, 24.54291156, 24.42223282, 24.31749706, 24.00021666,\n",
       "       24.01593795, 24.13813826, 24.91305953, 26.06910654, 26.81376835,\n",
       "       26.31171522, 26.2464462 , 26.39656219, 26.78982515, 27.23756818,\n",
       "       27.95483598, 28.55945065, 28.77106088, 27.8999734 , 26.42532875,\n",
       "       25.84029722, 26.05999447, 25.95188857, 25.89385705, 26.09999155,\n",
       "       26.34878377, 26.7395207 , 26.79601197, 25.84263827, 25.62461271,\n",
       "       25.83165454, 26.06423354, 26.76718868, 26.49832638, 26.65618935,\n",
       "       26.42005908, 26.34777772, 26.35257109, 26.1620099 , 25.54424351,\n",
       "       25.36725153, 25.39423787, 25.47106972, 25.61115076, 26.01142861,\n",
       "       26.18919249, 26.22344942, 25.65300505, 25.20629897, 24.14544211,\n",
       "       23.97102442, 24.51216362, 24.74215769, 24.23182515, 24.32398684,\n",
       "       24.20445141, 24.16944612, 24.20718482, 23.91150683, 24.3040193 ,\n",
       "       24.91772073, 24.63089071, 24.29308265, 23.55926364, 23.19597354,\n",
       "       23.12678395, 23.02456782, 22.82729824, 23.47098266, 23.57303209,\n",
       "       23.30801874, 23.54980598, 23.45504849, 23.42469605, 23.85346323,\n",
       "       24.04263815, 24.06961667, 24.2230415 , 23.97368407, 24.0548728 ,\n",
       "       24.11528955, 23.81325963, 23.35199638, 22.593724  , 22.19660519,\n",
       "       21.92476474, 22.49800119, 23.15203916, 23.17831387, 23.94762542,\n",
       "       24.40143338, 24.50678447, 24.39573632, 24.47498081, 24.64931932,\n",
       "       24.65148631, 24.69164573, 24.76290452, 24.65842321, 25.0563795 ,\n",
       "       25.38253905, 25.40981854, 25.40383278, 25.44505279, 25.45945271,\n",
       "       25.55612367, 25.88490078, 25.98368128, 25.39291586, 24.24979942,\n",
       "       24.29997333, 24.77894506, 25.46971617, 25.70739632, 25.72761465,\n",
       "       25.74950321, 25.97707142, 26.01697433, 26.42657386, 26.36569572,\n",
       "       26.68801751, 25.92631631, 24.93394427, 24.73343189, 24.51731453,\n",
       "       23.78684248, 23.12159718, 23.13895216, 23.70725627, 24.01310486,\n",
       "       24.49763513, 24.56264345, 24.47418541, 24.50290989, 24.29169556,\n",
       "       24.0216052 , 23.88648014, 24.01808802, 24.04851701, 23.96831642,\n",
       "       24.35219752, 24.28398867, 24.26977169, 24.92375375, 25.33623899,\n",
       "       25.29870776, 24.70678855, 24.91180224, 24.77736316, 24.22430587,\n",
       "       23.9655346 , 23.91177198, 24.21600088, 24.58350524, 24.82634189,\n",
       "       25.26511193, 25.68080211, 25.79909784, 25.88345679, 25.87873405,\n",
       "       25.23463745, 24.88618044, 24.49674207, 24.71303668, 24.76982899,\n",
       "       24.9431041 , 25.21948509, 25.41798855, 25.50717977, 25.32236136,\n",
       "       25.11199852, 25.04156796, 25.1065396 , 25.4703629 , 25.08908932,\n",
       "       24.93522255, 24.7741646 , 24.64371867, 24.52572028, 24.80698061,\n",
       "       24.96975558, 24.44535626, 24.18014325, 24.43682103, 24.63771699,\n",
       "       24.8316985 , 24.42863747, 24.37182807, 24.35440846, 23.49955225,\n",
       "       23.87371119, 23.9953233 , 24.08598878, 23.98654092, 23.70809852,\n",
       "       23.44218119, 22.69145237, 23.21554586, 23.92338654, 24.27706804,\n",
       "       24.58106579, 24.27376316, 23.87561603, 23.61416057, 23.87498329,\n",
       "       23.98104401, 23.84460776, 23.38522199, 23.37987015, 23.48901928,\n",
       "       23.5979358 , 23.65466267, 23.5439043 , 23.57146121, 23.3980972 ,\n",
       "       23.01233416, 22.90880238, 22.92383621, 23.71377468, 24.17938999,\n",
       "       24.25713495, 24.22881428, 24.16098388, 23.91921854, 23.55059787,\n",
       "       22.97915272, 22.29942215, 22.01086227, 22.43693726, 22.47106293,\n",
       "       22.18165208, 22.33729242, 22.13327992, 22.10689886, 22.99980036,\n",
       "       22.57268969, 22.45817282, 21.88918998, 21.49654694, 21.642656  ,\n",
       "       22.09943694, 22.16509735, 22.74185244, 22.44376545, 22.55706048,\n",
       "       22.67280247, 22.5840531 , 22.71734186, 22.85350369, 22.91155293,\n",
       "       22.74073258, 22.21317737, 22.33021172, 22.51236784, 22.89502838,\n",
       "       22.79351416, 22.73637425])"
      ]
     },
     "execution_count": 22,
     "metadata": {},
     "output_type": "execute_result"
    }
   ],
   "source": [
    "train_predictions=predicted.flatten()\n",
    "dummies=np.zeros((X_train.to('cpu').shape[0],time_period+1))\n",
    "dummies[:,0]=train_predictions\n",
    "dummies=scaler.inverse_transform(dummies)\n",
    "train_predictions=dc(dummies[:,0])\n",
    "train_predictions"
   ]
  },
  {
   "cell_type": "code",
   "execution_count": 23,
   "metadata": {},
   "outputs": [
    {
     "data": {
      "text/plain": [
       "array([23.10000003, 21.70000007, 23.10000003, 21.6       , 20.89999993,\n",
       "       21.49999994, 21.10000005, 18.79999989, 19.90000003, 21.79999995,\n",
       "       22.60000008, 22.60000008, 22.69999996, 22.50000002, 21.00000017,\n",
       "       21.00000017, 21.90000001, 22.69999996, 23.10000003, 23.80000002,\n",
       "       23.2       , 22.80000003, 22.30000008, 21.00000017, 20.80000005,\n",
       "       20.80000005, 22.50000002, 21.49999994, 22.00000007, 22.69999996,\n",
       "       23.40000004, 22.90000009, 22.99999997, 22.99999997, 22.69999996,\n",
       "       22.39999996, 22.80000003, 22.00000007, 21.49999994, 20.80000005,\n",
       "       21.00000017, 20.89999993, 21.30000018, 21.30000018, 20.80000005,\n",
       "       20.10000015, 19.80000015, 19.50000014, 20.40000016, 20.20000004,\n",
       "       20.70000017, 21.30000018, 21.90000001, 20.80000005, 20.89999993,\n",
       "       20.59999992, 20.80000005, 20.40000016, 21.40000006, 21.70000007,\n",
       "       21.10000005, 20.80000005, 20.80000005, 21.49999994, 21.6       ,\n",
       "       21.70000007, 22.09999995, 21.70000007, 22.39999996, 22.90000009,\n",
       "       22.39999996, 22.09999995, 22.99999997, 22.30000008, 21.79999995,\n",
       "       21.00000017, 21.49999994, 21.79999995, 22.69999996, 22.50000002,\n",
       "       22.80000003, 22.00000007, 22.00000007, 22.39999996, 22.20000001,\n",
       "       21.30000018, 21.6       , 23.2       , 24.19999999, 23.80000002,\n",
       "       23.70000004, 22.80000003, 23.89999999, 23.2       , 23.10000003,\n",
       "       22.99999997, 22.60000008, 22.00000007, 22.20000001, 22.30000008,\n",
       "       22.60000008, 22.50000002, 22.50000002, 22.80000003, 22.30000008,\n",
       "       23.2       , 22.39999996, 22.50000002, 24.10000002, 24.59999999,\n",
       "       24.89999998, 23.50000001, 22.50000002, 23.10000003, 23.10000003,\n",
       "       23.29999998, 23.70000004, 24.40000001, 23.40000004, 22.90000009,\n",
       "       24.10000002, 24.00000001, 23.40000004, 22.00000007, 24.10000002,\n",
       "       25.29999996, 25.49999999, 25.49999999, 25.49999999, 25.59999996,\n",
       "       26.09999991, 26.09999991, 26.30000004, 26.60000004, 26.79999999,\n",
       "       26.00000003, 25.10000001, 24.99999999, 25.89999997, 27.09999999,\n",
       "       27.09999999, 26.60000004, 26.90000005, 27.59999994, 27.89999995,\n",
       "       28.29999983, 27.99999983, 28.19999995, 26.90000005, 26.90000005,\n",
       "       27.29999993, 27.29999993, 26.99999993, 27.89999995, 27.89999995,\n",
       "       27.4       , 27.69999982, 27.29999993, 27.99999983, 27.80000007,\n",
       "       25.70000002, 25.19999998, 25.40000002, 25.70000002, 25.49999999,\n",
       "       25.10000001, 26.30000004, 27.89999995, 28.10000007, 27.4       ,\n",
       "       26.69999992, 27.99999983, 28.59999984, 28.49999996, 29.09999997,\n",
       "       28.70000008, 29.6000001 , 28.19999995, 24.99999999, 26.30000004,\n",
       "       27.09999999, 25.89999997, 23.80000002, 24.5       , 25.8       ,\n",
       "       26.00000003, 25.19999998, 22.80000003, 22.80000003, 21.49999994,\n",
       "       23.10000003, 25.10000001, 25.40000002, 24.30000001, 23.89999999,\n",
       "       24.00000001, 21.19999993, 22.09999995, 22.90000009, 23.89999999,\n",
       "       25.19999998, 25.89999997, 25.70000002, 25.49999999, 25.8       ,\n",
       "       25.70000002, 25.49999999, 25.19999998, 24.59999999, 24.89999998,\n",
       "       25.49999999, 24.99999999, 25.10000001, 25.29999996, 24.30000001,\n",
       "       24.80000001, 24.99999999, 24.99999999, 25.10000001, 24.69999999,\n",
       "       24.89999998, 24.80000001, 25.40000002, 23.80000002, 24.69999999,\n",
       "       24.59999999, 23.70000004, 24.00000001, 24.00000001, 23.50000001,\n",
       "       22.90000009, 23.10000003, 24.19999999, 23.10000003, 24.00000001,\n",
       "       23.59999998, 23.80000002, 24.19999999, 23.40000004, 23.70000004,\n",
       "       23.80000002, 23.59999998, 22.69999996, 22.80000003, 22.20000001,\n",
       "       21.90000001, 21.79999995, 22.00000007, 22.60000008, 21.90000001,\n",
       "       23.2       , 22.00000007, 21.79999995, 22.30000008, 22.20000001,\n",
       "       23.29999998, 22.60000008, 24.30000001, 24.80000001, 24.00000001,\n",
       "       23.50000001, 23.10000003, 22.90000009, 24.00000001, 23.89999999,\n",
       "       24.00000001, 25.29999996, 25.8       , 24.80000001, 23.59999998,\n",
       "       24.19999999, 22.80000003, 22.09999995, 22.09999995, 21.49999994,\n",
       "       21.70000007, 22.20000001, 22.30000008, 22.30000008, 22.80000003,\n",
       "       23.2       , 23.29999998, 23.40000004, 22.99999997, 23.70000004,\n",
       "       24.80000001, 25.29999996, 24.80000001, 24.10000002, 24.00000001,\n",
       "       23.29999998, 23.10000003, 23.89999999, 23.2       , 23.50000001,\n",
       "       22.90000009, 22.99999997, 23.29999998, 23.10000003, 24.19999999,\n",
       "       23.70000004, 22.90000009, 23.29999998, 24.99999999, 23.89999999,\n",
       "       24.10000002, 23.59999998, 22.60000008, 22.20000001, 23.2       ,\n",
       "       22.99999997, 22.90000009, 23.10000003, 22.69999996, 23.29999998,\n",
       "       23.2       , 23.59999998, 24.19999999, 24.19999999, 23.50000001,\n",
       "       23.10000003, 23.10000003, 23.80000002, 23.70000004, 23.80000002,\n",
       "       23.89999999, 23.40000004, 24.30000001, 23.80000002, 23.50000001,\n",
       "       22.09999995, 20.89999993, 22.69999996, 22.80000003, 23.70000004,\n",
       "       23.59999998, 22.50000002, 23.29999998, 23.50000001, 22.99999997,\n",
       "       23.40000004, 23.50000001, 23.70000004, 23.89999999, 22.90000009,\n",
       "       23.89999999, 23.2       , 23.29999998, 22.99999997, 23.50000001,\n",
       "       23.40000004, 23.29999998, 23.40000004, 23.10000003, 22.20000001,\n",
       "       22.30000008, 22.50000002, 22.30000008, 22.30000008, 21.79999995,\n",
       "       22.39999996, 22.90000009, 21.19999993, 20.59999992, 21.49999994,\n",
       "       22.20000001, 22.80000003, 22.30000008, 22.69999996, 22.80000003,\n",
       "       22.50000002, 22.20000001, 20.59999992, 20.40000016, 21.40000006,\n",
       "       21.90000001, 22.50000002, 22.60000008, 21.49999994, 21.10000005,\n",
       "       20.59999992, 19.60000002, 20.89999993, 20.89999993, 21.6       ,\n",
       "       21.70000007, 22.60000008, 22.90000009, 22.90000009, 22.90000009,\n",
       "       22.50000002, 21.6       , 21.00000017, 22.39999996, 22.99999997,\n",
       "       22.69999996, 22.30000008, 22.39999996, 21.19999993, 21.49999994,\n",
       "       19.3999999 , 18.4       , 19.6999999 , 21.10000005, 21.10000005,\n",
       "       21.10000005, 21.49999994, 21.30000018, 21.70000007, 21.6       ,\n",
       "       20.89999993, 21.49999994, 21.49999994, 20.80000005, 21.19999993,\n",
       "       20.89999993, 20.80000005, 21.70000007, 21.30000018, 22.69999996,\n",
       "       22.30000008, 21.49999994, 21.79999995, 22.00000007, 21.10000005,\n",
       "       20.70000017, 20.70000017, 20.10000015, 20.40000016, 20.50000004,\n",
       "       20.80000005, 19.6999999 , 19.3999999 , 20.10000015, 21.10000005,\n",
       "       20.59999992, 20.59999992, 20.70000017, 21.19999993, 20.50000004,\n",
       "       19.80000015, 20.70000017, 19.80000015, 20.50000004, 20.50000004,\n",
       "       19.50000014, 21.49999994, 20.80000005, 21.00000017, 21.40000006,\n",
       "       21.10000005, 21.30000018, 22.09999995, 22.50000002, 21.90000001,\n",
       "       21.6       , 21.79999995, 23.50000001, 23.70000004, 22.80000003,\n",
       "       23.40000004, 23.70000004, 23.40000004, 23.29999998, 22.99999997,\n",
       "       23.70000004, 23.50000001, 23.29999998, 23.40000004, 23.40000004,\n",
       "       23.40000004, 23.50000001, 23.50000001, 23.29999998, 24.00000001,\n",
       "       24.10000002, 23.40000004, 23.10000003, 23.89999999, 23.89999999,\n",
       "       22.69999996, 22.80000003, 23.80000002, 22.99999997, 23.10000003,\n",
       "       23.70000004, 24.10000002, 23.89999999, 23.70000004, 23.59999998,\n",
       "       23.2       , 23.40000004, 23.70000004, 24.10000002, 25.19999998,\n",
       "       25.70000002, 26.09999991, 24.80000001, 24.30000001, 24.19999999,\n",
       "       25.70000002, 25.8       , 25.8       , 26.39999992, 26.90000005,\n",
       "       27.29999993, 26.49999998, 27.20000005, 27.50000006, 27.99999983,\n",
       "       26.90000005, 26.69999992, 26.90000005, 27.4       , 27.29999993,\n",
       "       27.09999999, 25.10000001, 26.90000005, 27.09999999, 26.39999992,\n",
       "       26.49999998, 26.09999991, 26.39999992, 26.90000005, 27.50000006,\n",
       "       27.80000007, 27.99999983, 26.79999999, 27.20000005, 27.29999993,\n",
       "       27.89999995, 28.10000007, 28.79999996, 25.8       , 26.49999998,\n",
       "       27.59999994, 27.29999993, 26.99999993, 27.50000006, 27.50000006,\n",
       "       27.29999993, 25.70000002, 26.30000004, 24.59999999, 24.5       ,\n",
       "       24.40000001, 24.40000001, 24.30000001, 23.70000004, 24.10000002,\n",
       "       24.30000001, 25.8       , 27.4       , 27.69999982, 25.70000002,\n",
       "       26.39999992, 26.79999999, 27.50000006, 27.99999983, 29.09999997,\n",
       "       29.6000001 , 29.3000001 , 26.90000005, 24.89999998, 25.70000002,\n",
       "       26.69999992, 26.00000003, 26.00000003, 26.49999998, 26.79999999,\n",
       "       27.4       , 26.99999993, 24.80000001, 25.70000002, 26.30000004,\n",
       "       26.49999998, 27.80000007, 26.19999997, 27.09999999, 26.30000004,\n",
       "       26.49999998, 26.60000004, 26.09999991, 24.99999999, 25.40000002,\n",
       "       25.59999996, 25.70000002, 25.89999997, 26.60000004, 26.49999998,\n",
       "       26.39999992, 25.10000001, 24.89999998, 23.10000003, 24.00000001,\n",
       "       25.19999998, 24.99999999, 23.70000004, 24.5       , 24.10000002,\n",
       "       24.19999999, 24.30000001, 23.59999998, 24.80000001, 25.59999996,\n",
       "       24.30000001, 24.00000001, 22.80000003, 22.90000009, 23.10000003,\n",
       "       22.90000009, 22.60000008, 24.10000002, 23.59999998, 22.99999997,\n",
       "       23.80000002, 23.29999998, 23.40000004, 24.30000001, 24.19999999,\n",
       "       24.10000002, 24.40000001, 23.70000004, 24.19999999, 24.19999999,\n",
       "       23.50000001, 22.90000009, 21.79999995, 21.79999995, 21.6       ,\n",
       "       22.99999997, 23.70000004, 23.10000003, 24.69999999, 24.80000001,\n",
       "       24.59999999, 24.30000001, 24.59999999, 24.89999998, 24.69999999,\n",
       "       24.80000001, 24.89999998, 24.59999999, 25.59999996, 25.8       ,\n",
       "       25.49999999, 25.49999999, 25.59999996, 25.59999996, 25.8       ,\n",
       "       26.39999992, 26.19999997, 24.80000001, 23.10000003, 24.59999999,\n",
       "       25.40000002, 26.30000004, 26.00000003, 25.8       , 25.89999997,\n",
       "       26.39999992, 26.19999997, 27.09999999, 26.39999992, 27.29999993,\n",
       "       25.10000001, 24.00000001, 24.80000001, 24.40000001, 23.10000003,\n",
       "       22.50000002, 23.2       , 24.30000001, 24.30000001, 24.99999999,\n",
       "       24.59999999, 24.40000001, 24.59999999, 24.10000002, 23.80000002,\n",
       "       23.80000002, 24.19999999, 24.10000002, 23.89999999, 24.80000001,\n",
       "       24.19999999, 24.30000001, 25.70000002, 25.8       , 25.29999996,\n",
       "       24.10000002, 25.29999996, 24.69999999, 23.70000004, 23.80000002,\n",
       "       23.89999999, 24.59999999, 24.99999999, 25.10000001, 25.8       ,\n",
       "       26.19999997, 26.00000003, 26.09999991, 26.00000003, 24.59999999,\n",
       "       24.69999999, 24.19999999, 25.10000001, 24.89999998, 25.19999998,\n",
       "       25.59999996, 25.70000002, 25.70000002, 25.19999998, 24.99999999,\n",
       "       25.10000001, 25.29999996, 26.00000003, 24.69999999, 24.89999998,\n",
       "       24.69999999, 24.59999999, 24.5       , 25.19999998, 25.19999998,\n",
       "       23.89999999, 24.00000001, 24.80000001, 24.89999998, 25.10000001,\n",
       "       24.00000001, 24.40000001, 24.40000001, 22.60000008, 24.40000001,\n",
       "       24.10000002, 24.19999999, 23.89999999, 23.40000004, 23.2       ,\n",
       "       21.90000001, 23.80000002, 24.59999999, 24.59999999, 24.89999998,\n",
       "       23.89999999, 23.50000001, 23.40000004, 24.19999999, 24.10000002,\n",
       "       23.70000004, 22.90000009, 23.40000004, 23.59999998, 23.70000004,\n",
       "       23.70000004, 23.40000004, 23.59999998, 23.2       , 22.60000008,\n",
       "       22.80000003, 22.90000009, 24.5       , 24.59999999, 24.30000001,\n",
       "       24.19999999, 24.10000002, 23.70000004, 23.2       , 22.39999996,\n",
       "       21.6       , 21.70000007, 22.80000003, 22.39999996, 21.79999995,\n",
       "       22.39999996, 21.79999995, 22.00000007, 23.80000002, 22.00000007,\n",
       "       22.30000008, 21.19999993, 21.00000017, 21.70000007, 22.39999996,\n",
       "       22.09999995, 23.2       , 22.00000007, 22.60000008, 22.69999996,\n",
       "       22.39999996, 22.80000003, 22.90000009, 22.90000009, 22.50000002,\n",
       "       21.6       , 22.39999996, 22.60000008, 23.2       , 22.60000008,\n",
       "       22.60000008, 23.50000001])"
      ]
     },
     "execution_count": 23,
     "metadata": {},
     "output_type": "execute_result"
    }
   ],
   "source": [
    "#do the same for y_train\n",
    "dummies=np.zeros((X_train.to('cpu').shape[0],time_period+1))\n",
    "dummies[:,0]=y_train.to('cpu').numpy().flatten()\n",
    "dummies=scaler.inverse_transform(dummies)\n",
    "new_y_train=dc(dummies[:,0])    \n",
    "new_y_train"
   ]
  },
  {
   "cell_type": "code",
   "execution_count": 24,
   "metadata": {},
   "outputs": [
    {
     "data": {
      "image/png": "[encoded data removed]",
      "text/plain": [
       "<Figure size 640x480 with 1 Axes>"
      ]
     },
     "metadata": {},
     "output_type": "display_data"
    }
   ],
   "source": [
    "plt.plot(new_y_train,label='Actual')\n",
    "plt.plot(train_predictions,label='Predicted')\n",
    "plt.ylabel('Day')\n",
    "plt.legend()\n",
    "plt.show()"
   ]
  },
  {
   "cell_type": "code",
   "execution_count": 25,
   "metadata": {},
   "outputs": [
    {
     "data": {
      "text/plain": [
       "array([23.14313543, 23.25974948, 23.15185609, 23.19416014, 23.17311474,\n",
       "       23.24757308, 23.4851097 , 23.85256216, 24.08456797, 24.09950391,\n",
       "       23.95199121, 24.10289791, 23.66695768, 23.32075651, 23.05909925,\n",
       "       23.17994493, 23.20226198, 23.94748272, 24.48525322, 24.93309783,\n",
       "       25.1960146 , 24.76961452, 24.62839122, 24.66456758, 24.92463895,\n",
       "       25.25579298, 25.39507903, 24.99411973, 24.42379988, 24.15667226,\n",
       "       24.13212932, 24.27875836, 24.13444865, 24.09940183, 24.55797784,\n",
       "       24.99944198, 25.26681216, 25.62677697, 26.17381289, 26.55144755,\n",
       "       26.86890706, 26.99052845, 26.60852764, 25.64615605, 25.20001007,\n",
       "       25.36742778, 25.46163688, 25.42602994, 25.68282938, 25.96404805,\n",
       "       26.54899005, 27.05350359, 27.40522022, 27.61942174, 27.80328509,\n",
       "       28.05405051, 28.03995019, 27.80200162, 27.72112394, 27.77026727,\n",
       "       28.17294971, 28.51953156, 28.52025256, 28.04298506, 27.90692667,\n",
       "       27.85698926, 27.76389902, 27.17764519, 27.14017323, 27.45455497,\n",
       "       27.70948075, 27.68628381, 27.73667243, 27.67678107, 28.0728622 ,\n",
       "       28.69463352, 28.84508746, 28.68527548, 28.81999151, 29.33142104,\n",
       "       29.34045002])"
      ]
     },
     "execution_count": 25,
     "metadata": {},
     "output_type": "execute_result"
    }
   ],
   "source": [
    "#Do for test\n",
    "test_predictions=model(X_test).detach().to('cpu').numpy().flatten()\n",
    "dummies=np.zeros((X_test.to('cpu').shape[0],time_period+1))\n",
    "dummies[:,0]=test_predictions\n",
    "dummies=scaler.inverse_transform(dummies)\n",
    "test_predictions=dc(dummies[:,0])\n",
    "test_predictions"
   ]
  },
  {
   "cell_type": "code",
   "execution_count": 26,
   "metadata": {},
   "outputs": [
    {
     "data": {
      "text/plain": [
       "array([23.29999998, 22.99999997, 23.2       , 23.10000003, 23.29999998,\n",
       "       23.70000004, 24.19999999, 24.30000001, 24.10000002, 23.80000002,\n",
       "       24.30000001, 23.2       , 22.99999997, 22.80000003, 23.29999998,\n",
       "       23.2       , 24.69999999, 24.99999999, 25.40000002, 25.49999999,\n",
       "       24.30000001, 24.59999999, 24.80000001, 25.29999996, 25.70000002,\n",
       "       25.59999996, 24.59999999, 23.89999999, 24.00000001, 24.19999999,\n",
       "       24.5       , 24.00000001, 24.10000002, 25.10000001, 25.49999999,\n",
       "       25.59999996, 26.09999991, 26.90000005, 27.09999999, 27.4       ,\n",
       "       27.29999993, 26.30000004, 24.69999999, 24.99999999, 25.8       ,\n",
       "       25.70000002, 25.49999999, 26.09999991, 26.39999992, 27.4       ,\n",
       "       27.80000007, 27.99999983, 28.10000007, 28.29999983, 28.70000008,\n",
       "       28.29999983, 27.80000007, 27.99999983, 28.19999995, 29.09999997,\n",
       "       29.3000001 , 28.79999996, 27.69999982, 28.19999995, 28.19999995,\n",
       "       27.99999983, 26.69999992, 27.50000006, 28.19999995, 28.29999983,\n",
       "       27.89999995, 28.10000007, 27.89999995, 29.00000009, 29.90000011,\n",
       "       29.3000001 , 28.79999996, 29.49999986, 30.6       , 29.69999998,\n",
       "       30.20000011])"
      ]
     },
     "execution_count": 26,
     "metadata": {},
     "output_type": "execute_result"
    }
   ],
   "source": [
    "dummies=np.zeros((X_test.to('cpu').shape[0],time_period+1))\n",
    "dummies[:,0]=y_test.to('cpu').numpy().flatten()\n",
    "dummies=scaler.inverse_transform(dummies)\n",
    "new_y_test=dc(dummies[:,0])\n",
    "new_y_test"
   ]
  },
  {
   "cell_type": "code",
   "execution_count": 27,
   "metadata": {},
   "outputs": [
    {
     "data": {
      "image/png": "[encoded data removed]",
      "text/plain": [
       "<Figure size 640x480 with 1 Axes>"
      ]
     },
     "metadata": {},
     "output_type": "display_data"
    }
   ],
   "source": [
    "plt.plot(new_y_test,label='Actual')\n",
    "plt.plot(test_predictions,label='Predicted')\n",
    "plt.ylabel('Temperature')\n",
    "plt.xlabel('Day')\n",
    "plt.legend()\n",
    "plt.show()"
   ]
  },
  {
   "cell_type": "code",
   "execution_count": 28,
   "metadata": {},
   "outputs": [
    {
     "name": "stdout",
     "output_type": "stream",
     "text": [
      "Mean Error : -0.3338328704881814\n"
     ]
    }
   ],
   "source": [
    "error=test_predictions-new_y_test\n",
    "mean_arr=np.mean(error)\n",
    "print(f'Mean Error : {mean_arr}')"
   ]
  },
  {
   "cell_type": "code",
   "execution_count": 29,
   "metadata": {},
   "outputs": [
    {
     "data": {
      "text/plain": [
       "array([29.47830381, 29.64404301, 29.70150851, 29.75082527, 29.60841572,\n",
       "       29.11880112, 28.85247776, 28.22331614, 27.93253056])"
      ]
     },
     "execution_count": 29,
     "metadata": {},
     "output_type": "execute_result"
    }
   ],
   "source": [
    "#Now validation of the model:\n",
    "with torch.no_grad():\n",
    "    predicted_val=model(X_val).to('cpu').numpy()\n",
    "dummies=np.zeros((X_val.to('cpu').shape[0],time_period+1))\n",
    "dummies[:,0]=predicted_val.flatten()\n",
    "dummies=scaler.inverse_transform(dummies)\n",
    "val_predictions=dc(dummies[:,0])\n",
    "val_predictions   "
   ]
  },
  {
   "cell_type": "code",
   "execution_count": 30,
   "metadata": {},
   "outputs": [
    {
     "data": {
      "text/plain": [
       "array([30.39999987, 30.29999999, 30.39999987, 29.90000011, 28.89999985,\n",
       "       29.09999997, 27.80000007, 28.10000007, 29.00000009])"
      ]
     },
     "execution_count": 30,
     "metadata": {},
     "output_type": "execute_result"
    }
   ],
   "source": [
    "dummies=np.zeros((X_val.to('cpu').shape[0],time_period+1))\n",
    "dummies[:,0]=y_val.to('cpu').numpy().flatten()\n",
    "dummies=scaler.inverse_transform(dummies)\n",
    "new_y_val=dc(dummies[:,0])\n",
    "new_y_val"
   ]
  },
  {
   "cell_type": "code",
   "execution_count": 31,
   "metadata": {},
   "outputs": [
    {
     "data": {
      "image/png": "[encoded data removed]",
      "text/plain": [
       "<Figure size 640x480 with 1 Axes>"
      ]
     },
     "metadata": {},
     "output_type": "display_data"
    }
   ],
   "source": [
    "#Now plot both\n",
    "plt.plot(new_y_val,label='Actual')\n",
    "plt.plot(val_predictions,label='Predicted')\n",
    "plt.ylabel('Temperature')\n",
    "plt.xlabel('Day')\n",
    "plt.legend()\n",
    "plt.show()"
   ]
  },
  {
   "cell_type": "code",
   "execution_count": 32,
   "metadata": {},
   "outputs": [
    {
     "data": {
      "text/html": [
       "<div>\n",
       "<style scoped>\n",
       "    .dataframe tbody tr th:only-of-type {\n",
       "        vertical-align: middle;\n",
       "    }\n",
       "\n",
       "    .dataframe tbody tr th {\n",
       "        vertical-align: top;\n",
       "    }\n",
       "\n",
       "    .dataframe thead th {\n",
       "        text-align: right;\n",
       "    }\n",
       "</style>\n",
       "<table border=\"1\" class=\"dataframe\">\n",
       "  <thead>\n",
       "    <tr style=\"text-align: right;\">\n",
       "      <th></th>\n",
       "      <th>name</th>\n",
       "      <th>datetime</th>\n",
       "      <th>tempmax</th>\n",
       "      <th>tempmin</th>\n",
       "      <th>temp</th>\n",
       "      <th>feelslikemax</th>\n",
       "      <th>feelslikemin</th>\n",
       "      <th>feelslike</th>\n",
       "      <th>dew</th>\n",
       "      <th>humidity</th>\n",
       "      <th>...</th>\n",
       "      <th>solarenergy</th>\n",
       "      <th>uvindex</th>\n",
       "      <th>severerisk</th>\n",
       "      <th>sunrise</th>\n",
       "      <th>sunset</th>\n",
       "      <th>moonphase</th>\n",
       "      <th>conditions</th>\n",
       "      <th>description</th>\n",
       "      <th>icon</th>\n",
       "      <th>stations</th>\n",
       "    </tr>\n",
       "  </thead>\n",
       "  <tbody>\n",
       "    <tr>\n",
       "      <th>0</th>\n",
       "      <td>Bangalore,India</td>\n",
       "      <td>2024-03-12</td>\n",
       "      <td>34.7</td>\n",
       "      <td>21.9</td>\n",
       "      <td>28.0</td>\n",
       "      <td>34.7</td>\n",
       "      <td>21.9</td>\n",
       "      <td>28.0</td>\n",
       "      <td>16.8</td>\n",
       "      <td>53.3</td>\n",
       "      <td>...</td>\n",
       "      <td>23.9</td>\n",
       "      <td>10</td>\n",
       "      <td>10</td>\n",
       "      <td>2024-03-12T06:28:51</td>\n",
       "      <td>2024-03-12T18:30:00</td>\n",
       "      <td>0.06</td>\n",
       "      <td>Partially cloudy</td>\n",
       "      <td>Partly cloudy throughout the day.</td>\n",
       "      <td>partly-cloudy-day</td>\n",
       "      <td>43296099999,VOBG,42705699999,VOBL,43302599999,...</td>\n",
       "    </tr>\n",
       "    <tr>\n",
       "      <th>1</th>\n",
       "      <td>Bangalore,India</td>\n",
       "      <td>2024-03-13</td>\n",
       "      <td>34.0</td>\n",
       "      <td>22.1</td>\n",
       "      <td>28.2</td>\n",
       "      <td>34.3</td>\n",
       "      <td>22.1</td>\n",
       "      <td>28.4</td>\n",
       "      <td>16.8</td>\n",
       "      <td>51.6</td>\n",
       "      <td>...</td>\n",
       "      <td>27.2</td>\n",
       "      <td>10</td>\n",
       "      <td>10</td>\n",
       "      <td>2024-03-13T06:28:13</td>\n",
       "      <td>2024-03-13T18:30:05</td>\n",
       "      <td>0.10</td>\n",
       "      <td>Partially cloudy</td>\n",
       "      <td>Partly cloudy throughout the day.</td>\n",
       "      <td>partly-cloudy-day</td>\n",
       "      <td>43296099999,VOBG,42705699999,VOBL,43302599999,...</td>\n",
       "    </tr>\n",
       "    <tr>\n",
       "      <th>2</th>\n",
       "      <td>Bangalore,India</td>\n",
       "      <td>2024-03-14</td>\n",
       "      <td>34.9</td>\n",
       "      <td>23.9</td>\n",
       "      <td>29.1</td>\n",
       "      <td>36.6</td>\n",
       "      <td>23.9</td>\n",
       "      <td>29.8</td>\n",
       "      <td>18.4</td>\n",
       "      <td>54.7</td>\n",
       "      <td>...</td>\n",
       "      <td>21.7</td>\n",
       "      <td>9</td>\n",
       "      <td>10</td>\n",
       "      <td>2024-03-14T06:27:35</td>\n",
       "      <td>2024-03-14T18:30:10</td>\n",
       "      <td>0.13</td>\n",
       "      <td>Rain, Partially cloudy</td>\n",
       "      <td>Partly cloudy throughout the day with morning ...</td>\n",
       "      <td>rain</td>\n",
       "      <td>43296099999,VOBG,42705699999,VOBL,43302599999,...</td>\n",
       "    </tr>\n",
       "    <tr>\n",
       "      <th>3</th>\n",
       "      <td>Bangalore,India</td>\n",
       "      <td>2024-03-15</td>\n",
       "      <td>34.7</td>\n",
       "      <td>23.9</td>\n",
       "      <td>29.3</td>\n",
       "      <td>35.9</td>\n",
       "      <td>23.9</td>\n",
       "      <td>29.8</td>\n",
       "      <td>18.1</td>\n",
       "      <td>53.7</td>\n",
       "      <td>...</td>\n",
       "      <td>21.7</td>\n",
       "      <td>8</td>\n",
       "      <td>10</td>\n",
       "      <td>2024-03-15T06:26:56</td>\n",
       "      <td>2024-03-15T18:30:15</td>\n",
       "      <td>0.16</td>\n",
       "      <td>Rain, Partially cloudy</td>\n",
       "      <td>Partly cloudy throughout the day with early mo...</td>\n",
       "      <td>rain</td>\n",
       "      <td>43296099999,43272099999,VOBG,42705699999,VOBL,...</td>\n",
       "    </tr>\n",
       "    <tr>\n",
       "      <th>4</th>\n",
       "      <td>Bangalore,India</td>\n",
       "      <td>2024-03-16</td>\n",
       "      <td>34.9</td>\n",
       "      <td>23.9</td>\n",
       "      <td>28.8</td>\n",
       "      <td>35.5</td>\n",
       "      <td>23.9</td>\n",
       "      <td>29.3</td>\n",
       "      <td>18.0</td>\n",
       "      <td>54.1</td>\n",
       "      <td>...</td>\n",
       "      <td>26.8</td>\n",
       "      <td>10</td>\n",
       "      <td>10</td>\n",
       "      <td>2024-03-16T06:26:17</td>\n",
       "      <td>2024-03-16T18:30:20</td>\n",
       "      <td>0.20</td>\n",
       "      <td>Partially cloudy</td>\n",
       "      <td>Partly cloudy throughout the day.</td>\n",
       "      <td>partly-cloudy-day</td>\n",
       "      <td>43296099999,VOBG,42705699999,VOBL,43302599999,...</td>\n",
       "    </tr>\n",
       "  </tbody>\n",
       "</table>\n",
       "<p>5 rows × 33 columns</p>\n",
       "</div>"
      ],
      "text/plain": [
       "              name    datetime  tempmax  tempmin  temp  feelslikemax  \\\n",
       "0  Bangalore,India  2024-03-12     34.7     21.9  28.0          34.7   \n",
       "1  Bangalore,India  2024-03-13     34.0     22.1  28.2          34.3   \n",
       "2  Bangalore,India  2024-03-14     34.9     23.9  29.1          36.6   \n",
       "3  Bangalore,India  2024-03-15     34.7     23.9  29.3          35.9   \n",
       "4  Bangalore,India  2024-03-16     34.9     23.9  28.8          35.5   \n",
       "\n",
       "   feelslikemin  feelslike   dew  humidity  ...  solarenergy  uvindex  \\\n",
       "0          21.9       28.0  16.8      53.3  ...         23.9       10   \n",
       "1          22.1       28.4  16.8      51.6  ...         27.2       10   \n",
       "2          23.9       29.8  18.4      54.7  ...         21.7        9   \n",
       "3          23.9       29.8  18.1      53.7  ...         21.7        8   \n",
       "4          23.9       29.3  18.0      54.1  ...         26.8       10   \n",
       "\n",
       "   severerisk              sunrise               sunset  moonphase  \\\n",
       "0          10  2024-03-12T06:28:51  2024-03-12T18:30:00       0.06   \n",
       "1          10  2024-03-13T06:28:13  2024-03-13T18:30:05       0.10   \n",
       "2          10  2024-03-14T06:27:35  2024-03-14T18:30:10       0.13   \n",
       "3          10  2024-03-15T06:26:56  2024-03-15T18:30:15       0.16   \n",
       "4          10  2024-03-16T06:26:17  2024-03-16T18:30:20       0.20   \n",
       "\n",
       "               conditions                                        description  \\\n",
       "0        Partially cloudy                  Partly cloudy throughout the day.   \n",
       "1        Partially cloudy                  Partly cloudy throughout the day.   \n",
       "2  Rain, Partially cloudy  Partly cloudy throughout the day with morning ...   \n",
       "3  Rain, Partially cloudy  Partly cloudy throughout the day with early mo...   \n",
       "4        Partially cloudy                  Partly cloudy throughout the day.   \n",
       "\n",
       "                icon                                           stations  \n",
       "0  partly-cloudy-day  43296099999,VOBG,42705699999,VOBL,43302599999,...  \n",
       "1  partly-cloudy-day  43296099999,VOBG,42705699999,VOBL,43302599999,...  \n",
       "2               rain  43296099999,VOBG,42705699999,VOBL,43302599999,...  \n",
       "3               rain  43296099999,43272099999,VOBG,42705699999,VOBL,...  \n",
       "4  partly-cloudy-day  43296099999,VOBG,42705699999,VOBL,43302599999,...  \n",
       "\n",
       "[5 rows x 33 columns]"
      ]
     },
     "execution_count": 32,
     "metadata": {},
     "output_type": "execute_result"
    }
   ],
   "source": [
    "present_df=pd.read_csv(r\"C:\\Users\\sriva\\Downloads\\Bangalore,India last30days.csv\")\n",
    "present_df.head()"
   ]
  },
  {
   "cell_type": "code",
   "execution_count": 33,
   "metadata": {},
   "outputs": [
    {
     "data": {
      "text/html": [
       "<div>\n",
       "<style scoped>\n",
       "    .dataframe tbody tr th:only-of-type {\n",
       "        vertical-align: middle;\n",
       "    }\n",
       "\n",
       "    .dataframe tbody tr th {\n",
       "        vertical-align: top;\n",
       "    }\n",
       "\n",
       "    .dataframe thead th {\n",
       "        text-align: right;\n",
       "    }\n",
       "</style>\n",
       "<table border=\"1\" class=\"dataframe\">\n",
       "  <thead>\n",
       "    <tr style=\"text-align: right;\">\n",
       "      <th></th>\n",
       "      <th>datetime</th>\n",
       "      <th>temp</th>\n",
       "    </tr>\n",
       "  </thead>\n",
       "  <tbody>\n",
       "    <tr>\n",
       "      <th>0</th>\n",
       "      <td>2024-03-12</td>\n",
       "      <td>28.0</td>\n",
       "    </tr>\n",
       "    <tr>\n",
       "      <th>1</th>\n",
       "      <td>2024-03-13</td>\n",
       "      <td>28.2</td>\n",
       "    </tr>\n",
       "    <tr>\n",
       "      <th>2</th>\n",
       "      <td>2024-03-14</td>\n",
       "      <td>29.1</td>\n",
       "    </tr>\n",
       "    <tr>\n",
       "      <th>3</th>\n",
       "      <td>2024-03-15</td>\n",
       "      <td>29.3</td>\n",
       "    </tr>\n",
       "    <tr>\n",
       "      <th>4</th>\n",
       "      <td>2024-03-16</td>\n",
       "      <td>28.8</td>\n",
       "    </tr>\n",
       "  </tbody>\n",
       "</table>\n",
       "</div>"
      ],
      "text/plain": [
       "    datetime  temp\n",
       "0 2024-03-12  28.0\n",
       "1 2024-03-13  28.2\n",
       "2 2024-03-14  29.1\n",
       "3 2024-03-15  29.3\n",
       "4 2024-03-16  28.8"
      ]
     },
     "execution_count": 33,
     "metadata": {},
     "output_type": "execute_result"
    }
   ],
   "source": [
    "required_columns=['datetime','temp']\n",
    "input_df=dc(present_df[required_columns])\n",
    "input_df['datetime']=pd.to_datetime(input_df['datetime'],format='%Y-%m-%d')\n",
    "input_df.head()"
   ]
  },
  {
   "cell_type": "code",
   "execution_count": 34,
   "metadata": {},
   "outputs": [
    {
     "data": {
      "text/plain": [
       "array([[27.7, 28.8, 29.3, 29.1, 28.2, 28. ],\n",
       "       [28.2, 27.7, 28.8, 29.3, 29.1, 28.2],\n",
       "       [28.2, 28.2, 27.7, 28.8, 29.3, 29.1],\n",
       "       [28. , 28.2, 28.2, 27.7, 28.8, 29.3],\n",
       "       [26.7, 28. , 28.2, 28.2, 27.7, 28.8],\n",
       "       [27.5, 26.7, 28. , 28.2, 28.2, 27.7],\n",
       "       [28.2, 27.5, 26.7, 28. , 28.2, 28.2],\n",
       "       [28.3, 28.2, 27.5, 26.7, 28. , 28.2],\n",
       "       [27.9, 28.3, 28.2, 27.5, 26.7, 28. ],\n",
       "       [28.1, 27.9, 28.3, 28.2, 27.5, 26.7],\n",
       "       [27.9, 28.1, 27.9, 28.3, 28.2, 27.5],\n",
       "       [29. , 27.9, 28.1, 27.9, 28.3, 28.2],\n",
       "       [29.9, 29. , 27.9, 28.1, 27.9, 28.3],\n",
       "       [29.3, 29.9, 29. , 27.9, 28.1, 27.9],\n",
       "       [28.8, 29.3, 29.9, 29. , 27.9, 28.1],\n",
       "       [29.5, 28.8, 29.3, 29.9, 29. , 27.9],\n",
       "       [30.6, 29.5, 28.8, 29.3, 29.9, 29. ],\n",
       "       [29.7, 30.6, 29.5, 28.8, 29.3, 29.9],\n",
       "       [30.2, 29.7, 30.6, 29.5, 28.8, 29.3],\n",
       "       [30.4, 30.2, 29.7, 30.6, 29.5, 28.8],\n",
       "       [30.3, 30.4, 30.2, 29.7, 30.6, 29.5],\n",
       "       [30.4, 30.3, 30.4, 30.2, 29.7, 30.6],\n",
       "       [29.9, 30.4, 30.3, 30.4, 30.2, 29.7],\n",
       "       [28.9, 29.9, 30.4, 30.3, 30.4, 30.2],\n",
       "       [29.1, 28.9, 29.9, 30.4, 30.3, 30.4],\n",
       "       [27.8, 29.1, 28.9, 29.9, 30.4, 30.3]])"
      ]
     },
     "execution_count": 34,
     "metadata": {},
     "output_type": "execute_result"
    }
   ],
   "source": [
    "shifted_input=prep_df_lstm(input_df,time_period)\n",
    "shifted_input.to_numpy()"
   ]
  },
  {
   "cell_type": "code",
   "execution_count": 35,
   "metadata": {},
   "outputs": [
    {
     "name": "stderr",
     "output_type": "stream",
     "text": [
      "c:\\Users\\sriva\\AppData\\Local\\Programs\\Python\\Python311\\Lib\\site-packages\\sklearn\\base.py:486: UserWarning: X has feature names, but MinMaxScaler was fitted without feature names\n",
      "  warnings.warn(\n"
     ]
    }
   ],
   "source": [
    "shifted_input=scaler.transform(shifted_input)\n",
    "X_input=shifted_input[:,1:]\n",
    "y_input=shifted_input[:,0]\n",
    "X_input=dc(np.flip(X_input,axis=1))\n",
    "X_input=X_input.reshape(-1,time_period,1)\n",
    "y_input=y_input.reshape(-1,1)\n",
    "X_input=torch.tensor(X_input).float().to(device)\n",
    "y_input=torch.tensor(y_input).float().to(device)\n"
   ]
  },
  {
   "cell_type": "code",
   "execution_count": 36,
   "metadata": {},
   "outputs": [
    {
     "data": {
      "text/plain": [
       "array([28.52025292, 28.04298506, 27.90692667, 27.8569889 , 27.76389902,\n",
       "       27.17764519, 27.14017305, 27.45455515, 27.70948039, 27.68628381,\n",
       "       27.73667279, 27.67678107, 28.07286257, 28.69463388, 28.84508783,\n",
       "       28.68527548, 28.81999187, 29.33142104, 29.34045002, 29.47830345,\n",
       "       29.64404301, 29.70150815, 29.75082527, 29.60841608, 29.11880149,\n",
       "       28.85247776])"
      ]
     },
     "execution_count": 36,
     "metadata": {},
     "output_type": "execute_result"
    }
   ],
   "source": [
    "#predict and check with the model made\n",
    "with torch.no_grad():\n",
    "    predicted_input=model(X_input).to('cpu').numpy()\n",
    "dummies=np.zeros((X_input.to('cpu').shape[0],time_period+1))\n",
    "dummies[:,0]=predicted_input.flatten()\n",
    "dummies=scaler.inverse_transform(dummies)\n",
    "input_predictions=dc(dummies[:,0])\n",
    "input_predictions"
   ]
  },
  {
   "cell_type": "code",
   "execution_count": 37,
   "metadata": {},
   "outputs": [
    {
     "data": {
      "text/plain": [
       "array([27.69999982, 28.19999995, 28.19999995, 27.99999983, 26.69999992,\n",
       "       27.50000006, 28.19999995, 28.29999983, 27.89999995, 28.10000007,\n",
       "       27.89999995, 29.00000009, 29.90000011, 29.3000001 , 28.79999996,\n",
       "       29.49999986, 30.6       , 29.69999998, 30.20000011, 30.39999987,\n",
       "       30.29999999, 30.39999987, 29.90000011, 28.89999985, 29.09999997,\n",
       "       27.80000007])"
      ]
     },
     "execution_count": 37,
     "metadata": {},
     "output_type": "execute_result"
    }
   ],
   "source": [
    "#actual\n",
    "dummies=np.zeros((X_input.to('cpu').shape[0],time_period+1))\n",
    "dummies[:,0]=y_input.to('cpu').numpy().flatten()\n",
    "dummies=scaler.inverse_transform(dummies)\n",
    "new_y_input=dc(dummies[:,0])\n",
    "new_y_input"
   ]
  },
  {
   "cell_type": "code",
   "execution_count": 38,
   "metadata": {},
   "outputs": [
    {
     "data": {
      "image/png": "[encoded data removed]",
      "text/plain": [
       "<Figure size 640x480 with 1 Axes>"
      ]
     },
     "metadata": {},
     "output_type": "display_data"
    }
   ],
   "source": [
    "#plot\n",
    "plt.plot(new_y_input,label='Actual')\n",
    "plt.plot(input_predictions,label='Predicted')\n",
    "plt.ylabel('Temperature')\n",
    "plt.xlabel('Day')\n",
    "plt.legend()\n",
    "plt.show()"
   ]
  },
  {
   "cell_type": "code",
   "execution_count": 39,
   "metadata": {},
   "outputs": [
    {
     "data": {
      "text/plain": [
       "\"\\ni=7\\nwhile(i>0):\\n    past_7days_day1=[shifted_input[-1][:10]]\\n    X_input=dc(np.flip(past_7days_day1,axis=1))\\n    X_input=X_input.reshape(1,-1,1)\\n    X_input=torch.tensor(X_input).float().to(device)\\n    with torch.no_grad():\\n        prediction=model(X_input).to('cpu').numpy().flatten()\\n    shifted_input=np.vstack((shifted_input,np.append(prediction,past_7days_day1)))\\n    i-=1\\nshifted_input=scaler.inverse_transform(shifted_input)\""
      ]
     },
     "execution_count": 39,
     "metadata": {},
     "output_type": "execute_result"
    }
   ],
   "source": [
    "#predict for next 7 days using the model\n",
    "'''\n",
    "i=7\n",
    "while(i>0):\n",
    "    past_7days_day1=[shifted_input[-1][:10]]\n",
    "    X_input=dc(np.flip(past_7days_day1,axis=1))\n",
    "    X_input=X_input.reshape(1,-1,1)\n",
    "    X_input=torch.tensor(X_input).float().to(device)\n",
    "    with torch.no_grad():\n",
    "        prediction=model(X_input).to('cpu').numpy().flatten()\n",
    "    shifted_input=np.vstack((shifted_input,np.append(prediction,past_7days_day1)))\n",
    "    i-=1\n",
    "shifted_input=scaler.inverse_transform(shifted_input)'''"
   ]
  },
  {
   "cell_type": "code",
   "execution_count": 40,
   "metadata": {},
   "outputs": [
    {
     "data": {
      "text/plain": [
       "'for i in range(-7,-1,1):\\n    print(shifted_input[i])'"
      ]
     },
     "execution_count": 40,
     "metadata": {},
     "output_type": "execute_result"
    }
   ],
   "source": [
    "'''for i in range(-7,-1,1):\n",
    "    print(shifted_input[i])'''"
   ]
  },
  {
   "cell_type": "code",
   "execution_count": 41,
   "metadata": {},
   "outputs": [
    {
     "data": {
      "text/plain": [
       "'predictions=[]\\nfor i in range(7):\\n    predictions.append(shifted_input[-7+i][0])\\npredictions'"
      ]
     },
     "execution_count": 41,
     "metadata": {},
     "output_type": "execute_result"
    }
   ],
   "source": [
    "'''predictions=[]\n",
    "for i in range(7):\n",
    "    predictions.append(shifted_input[-7+i][0])\n",
    "predictions'''"
   ]
  }
 ],
 "metadata": {
  "kernelspec": {
   "display_name": "Python 3",
   "language": "python",
   "name": "python3"
  },
  "language_info": {
   "codemirror_mode": {
    "name": "ipython",
    "version": 3
   },
   "file_extension": ".py",
   "mimetype": "text/x-python",
   "name": "python",
   "nbconvert_exporter": "python",
   "pygments_lexer": "ipython3",
   "version": "3.11.8"
  }
 },
 "nbformat": 4,
 "nbformat_minor": 2
}
